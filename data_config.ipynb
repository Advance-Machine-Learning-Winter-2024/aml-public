{
 "cells": [
  {
   "cell_type": "code",
   "execution_count": null,
   "metadata": {},
   "outputs": [],
   "source": [
    "COLS=['Open_n_val',\n",
    " 'High_n_val',\n",
    " 'Low_n_val',\n",
    " 'Close_n_val',\n",
    " 'Volume_n_val',\n",
    " 'SMA_10_val',\n",
    " 'SMA_20_val',\n",
    " 'CMO_14_val',\n",
    " 'High_n-Low_n_val',\n",
    " 'Open_n-Close_n_val',\n",
    " 'SMA_20-SMA_10_val',\n",
    " 'Close_n_slope_3_val',\n",
    " 'Close_n_slope_5_val',\n",
    " 'Close_n_slope_10_val',\n",
    " 'Open_n_changelen_val',\n",
    " 'High_n_changelen_val',\n",
    " 'Low_n_changelen_val',\n",
    " 'Close_n_changelen_val',\n",
    " 'High_n-Low_n_changelen_val',\n",
    " 'Open_n-Close_n_changelen_val',\n",
    " 'SMA_20-SMA_10_changelen_val',\n",
    " 'Close_n_slope_3_changelen_val',\n",
    " 'Close_n_slope_5_changelen_val',\n",
    " 'Close_n_slope_10_changelen_val',\n",
    " 'row_num']"
   ]
  }
 ],
 "metadata": {
  "language_info": {
   "name": "python"
  }
 },
 "nbformat": 4,
 "nbformat_minor": 2
}
