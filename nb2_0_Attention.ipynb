{
 "cells": [
  {
   "cell_type": "code",
   "execution_count": null,
   "metadata": {},
   "outputs": [],
   "source": [
    "# !pip install import_ipynb --quiet\n",
    "# !git clone https://github.com/gmshroff/aml-public.git\n",
    "# %cd aml-public"
   ]
  },
  {
   "cell_type": "code",
   "execution_count": null,
   "metadata": {},
   "outputs": [],
   "source": [
    "import import_ipynb\n",
    "import utils\n",
    "import models\n",
    "from IPython import display\n",
    "import torch\n",
    "from sklearn.manifold import TSNE\n",
    "from matplotlib import pyplot as plt\n",
    "import pickle\n",
    "import warnings\n",
    "from ucimlrepo import fetch_ucirepo\n",
    "warnings.filterwarnings('ignore') \n",
    "from matplotlib import pyplot as plt\n",
    "from utils import MyDS"
   ]
  },
  {
   "cell_type": "code",
   "execution_count": null,
   "metadata": {},
   "outputs": [],
   "source": [
    "import numpy as np\n",
    "import torch\n",
    "from torch import nn\n",
    "from torch import optim"
   ]
  },
  {
   "cell_type": "code",
   "execution_count": null,
   "metadata": {},
   "outputs": [],
   "source": [
    "import import_ipynb\n",
    "import models\n",
    "from models import Train,TrainVals"
   ]
  },
  {
   "cell_type": "code",
   "execution_count": null,
   "metadata": {},
   "outputs": [],
   "source": [
    "# fetch dataset \n",
    "iris = fetch_ucirepo(id=53) \n",
    "  \n",
    "# data (as pandas dataframes) \n",
    "Xf = iris.data.features \n",
    "yf = iris.data.targets \n",
    "classes=yf['class'].unique().tolist()"
   ]
  },
  {
   "cell_type": "code",
   "execution_count": null,
   "metadata": {},
   "outputs": [],
   "source": [
    "perm = np.random.permutation(150).tolist()"
   ]
  },
  {
   "cell_type": "code",
   "execution_count": null,
   "metadata": {},
   "outputs": [],
   "source": [
    "Xf,yf=Xf.iloc[perm],yf.iloc[perm]"
   ]
  },
  {
   "cell_type": "code",
   "execution_count": null,
   "metadata": {},
   "outputs": [],
   "source": [
    "def encode_target(t,classes=classes):\n",
    "    return classes.index(t)"
   ]
  },
  {
   "cell_type": "code",
   "execution_count": null,
   "metadata": {},
   "outputs": [],
   "source": [
    "yf['label']=yf['class'].apply(encode_target)"
   ]
  },
  {
   "cell_type": "code",
   "execution_count": null,
   "metadata": {},
   "outputs": [],
   "source": [
    "yf"
   ]
  },
  {
   "cell_type": "code",
   "execution_count": null,
   "metadata": {},
   "outputs": [],
   "source": [
    "train_n=100"
   ]
  },
  {
   "cell_type": "code",
   "execution_count": null,
   "metadata": {},
   "outputs": [],
   "source": [
    "X=torch.tensor(Xf.iloc[0:train_n].values, dtype=torch.float32)"
   ]
  },
  {
   "cell_type": "code",
   "execution_count": null,
   "metadata": {},
   "outputs": [],
   "source": [
    "y=torch.tensor(yf.iloc[0:train_n]['label'].values,dtype=torch.float32)"
   ]
  },
  {
   "cell_type": "code",
   "execution_count": null,
   "metadata": {},
   "outputs": [],
   "source": [
    "Xtest=torch.tensor(Xf.iloc[train_n:].values,dtype=torch.float32)\n",
    "ytest=torch.tensor(yf[train_n:]['label'].values,dtype=torch.float32)"
   ]
  },
  {
   "cell_type": "code",
   "execution_count": null,
   "metadata": {},
   "outputs": [],
   "source": [
    "def one_hot(y,n=3):\n",
    "    oh=torch.zeros(y.shape[0],n)\n",
    "    oh[torch.arange(y.shape[0]), y.long()]=1\n",
    "    return oh"
   ]
  },
  {
   "cell_type": "code",
   "execution_count": null,
   "metadata": {},
   "outputs": [],
   "source": [
    "y_train=one_hot(y)"
   ]
  },
  {
   "cell_type": "code",
   "execution_count": null,
   "metadata": {},
   "outputs": [],
   "source": [
    "y_train"
   ]
  },
  {
   "cell_type": "code",
   "execution_count": null,
   "metadata": {},
   "outputs": [],
   "source": [
    "class DotSoft(nn.Module):\n",
    "    def __init__(self,x_train,y_train):\n",
    "        super(DotSoft,self).__init__()\n",
    "        self.x_train=x_train\n",
    "        self.y_train=y_train\n",
    "        self.S=nn.Softmax(dim=-1)\n",
    "    def __call__(self,X):\n",
    "        XN=X/torch.sqrt(torch.sum(X*X,1).unsqueeze(-1))\n",
    "        xN=self.x_train/torch.sqrt(torch.sum(self.x_train*self.x_train,1).unsqueeze(-1))\n",
    "        # print(self.S(XN@xN.transpose(1,0)))        \n",
    "        return self.S(XN@xN.transpose(1,0))@self.y_train\n"
   ]
  },
  {
   "cell_type": "code",
   "execution_count": null,
   "metadata": {},
   "outputs": [],
   "source": [
    "dS=DotSoft(X,y_train)"
   ]
  },
  {
   "cell_type": "code",
   "execution_count": null,
   "metadata": {},
   "outputs": [],
   "source": [
    "ytest"
   ]
  },
  {
   "cell_type": "code",
   "execution_count": null,
   "metadata": {},
   "outputs": [],
   "source": [
    "models.accuracy(dS,X,y)"
   ]
  },
  {
   "cell_type": "code",
   "execution_count": null,
   "metadata": {},
   "outputs": [],
   "source": [
    "models.accuracy(dS,Xtest,ytest)"
   ]
  },
  {
   "cell_type": "code",
   "execution_count": null,
   "metadata": {},
   "outputs": [],
   "source": [
    "class SoftNN(nn.Module):\n",
    "    def __init__(self,x_train,y_train,d=10,lr=1e-3,weight_decay=0.001):\n",
    "        super(SoftNN,self).__init__()\n",
    "        self.x_train=x_train\n",
    "        self.y_train=y_train\n",
    "        self.W=torch.rand(x_train.shape[1],d,requires_grad=True)\n",
    "        self.b=torch.rand(1,1,requires_grad=True)\n",
    "        self.S=nn.Softmax(dim=-1)\n",
    "        self.optimizer = optim.Adam([self.W,self.b],lr=lr,weight_decay=weight_decay)\n",
    "        self.relu=nn.Tanh()\n",
    "    def __call__(self,X):\n",
    "        Z=self.relu(self.x_train@self.W+self.b)\n",
    "        V=self.relu(X@self.W+self.b)\n",
    "        ZN=Z/torch.sqrt(torch.sum(Z*Z,1).unsqueeze(-1))\n",
    "        VN=V/torch.sqrt(torch.sum(V*V,1).unsqueeze(-1))\n",
    "        # print(self.S(VN@ZN.transpose(1,0)))\n",
    "        return self.S(VN@ZN.transpose(1,0))@self.y_train\n"
   ]
  },
  {
   "cell_type": "code",
   "execution_count": null,
   "metadata": {},
   "outputs": [],
   "source": [
    "class SoftNNAttention(nn.Module):\n",
    "    def __init__(self,x_train,y_train,d=10,lr=1e-3,weight_decay=0.001):\n",
    "        super(SoftNNAttention,self).__init__()\n",
    "        self.x_train=x_train\n",
    "        self.y_train=y_train\n",
    "        self.W=torch.rand(x_train.shape[1],d,requires_grad=True)\n",
    "        self.U=torch.rand(x_train.shape[1],d,requires_grad=True)\n",
    "        self.b=torch.rand(1,1,requires_grad=True)\n",
    "        self.c=torch.rand(1,1,requires_grad=True)\n",
    "        self.S=nn.Softmax(dim=-1)\n",
    "        self.optimizer = optim.Adam([self.W,self.U,self.b,self.c],lr=lr,weight_decay=weight_decay)\n",
    "        self.relu=nn.Tanh()\n",
    "    def __call__(self,X):\n",
    "        Z=self.relu(self.x_train@self.W+self.b)\n",
    "        V=self.relu(X@self.U+self.c)\n",
    "        ZN=Z/torch.sqrt(torch.sum(Z*Z,1).unsqueeze(-1))\n",
    "        VN=V/torch.sqrt(torch.sum(V*V,1).unsqueeze(-1))\n",
    "        # print(self.S(VN@ZN.transpose(1,0)))\n",
    "        return self.S(VN@ZN.transpose(1,0))@self.y_train\n"
   ]
  },
  {
   "cell_type": "code",
   "execution_count": null,
   "metadata": {},
   "outputs": [],
   "source": [
    "snn=SoftNN(X,y_train)"
   ]
  },
  {
   "cell_type": "code",
   "execution_count": null,
   "metadata": {},
   "outputs": [],
   "source": [
    "snn=SoftNNAttention(X,y_train)"
   ]
  },
  {
   "cell_type": "code",
   "execution_count": null,
   "metadata": {},
   "outputs": [],
   "source": [
    "snn,losses,accs=models.TrainVals(snn,X.numpy(),y,epochs=100,verbose=True)"
   ]
  },
  {
   "cell_type": "code",
   "execution_count": null,
   "metadata": {},
   "outputs": [],
   "source": [
    "models.accuracy(snn,X,y)"
   ]
  },
  {
   "cell_type": "code",
   "execution_count": null,
   "metadata": {},
   "outputs": [],
   "source": [
    "models.accuracy(snn,Xtest,ytest)"
   ]
  },
  {
   "cell_type": "code",
   "execution_count": null,
   "metadata": {},
   "outputs": [],
   "source": [
    "train_ds=MyDS(Xf.iloc[0:train_n].values,yf[0:train_n]['label'].values)"
   ]
  },
  {
   "cell_type": "code",
   "execution_count": null,
   "metadata": {},
   "outputs": [],
   "source": [
    "test_ds=MyDS(Xf.iloc[train_n:].values,yf[train_n:]['label'].values)"
   ]
  },
  {
   "cell_type": "code",
   "execution_count": null,
   "metadata": {},
   "outputs": [],
   "source": [
    "dloader=torch.utils.data.DataLoader(train_ds,batch_size=32,shuffle=False)"
   ]
  },
  {
   "cell_type": "code",
   "execution_count": null,
   "metadata": {},
   "outputs": [],
   "source": [
    "snn,losses,accs=Train(snn,dloader,epochs=100,verbose=True,val_ds=test_ds,plot_accs=True)"
   ]
  },
  {
   "cell_type": "code",
   "execution_count": null,
   "metadata": {},
   "outputs": [],
   "source": [
    "models.accuracy(snn,X,y)"
   ]
  },
  {
   "cell_type": "code",
   "execution_count": null,
   "metadata": {},
   "outputs": [],
   "source": [
    "models.accuracy(snn,Xtest,ytest)"
   ]
  },
  {
   "cell_type": "code",
   "execution_count": null,
   "metadata": {},
   "outputs": [],
   "source": [
    "snn.W,snn.U,snn.b,snn.c"
   ]
  },
  {
   "cell_type": "code",
   "execution_count": null,
   "metadata": {},
   "outputs": [],
   "source": []
  }
 ],
 "metadata": {
  "kernelspec": {
   "display_name": "py311aml",
   "language": "python",
   "name": "python3"
  },
  "language_info": {
   "codemirror_mode": {
    "name": "ipython",
    "version": 3
   },
   "file_extension": ".py",
   "mimetype": "text/x-python",
   "name": "python",
   "nbconvert_exporter": "python",
   "pygments_lexer": "ipython3",
   "version": "3.11.6"
  }
 },
 "nbformat": 4,
 "nbformat_minor": 2
}
