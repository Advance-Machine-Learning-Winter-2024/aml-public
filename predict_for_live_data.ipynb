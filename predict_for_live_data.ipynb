{
 "cells": [
  {
   "cell_type": "code",
   "execution_count": null,
   "metadata": {},
   "outputs": [],
   "source": [
    "import pandas as pd\n",
    "import numpy as np\n",
    "import import_ipynb\n",
    "from datetime import datetime\n",
    "from data_config import COLS\n",
    "import requests\n",
    "TARGET='target_10_val'"
   ]
  },
  {
   "cell_type": "code",
   "execution_count": null,
   "metadata": {},
   "outputs": [],
   "source": [
    "GROUP_NO=0 # REPLACE WITH YOUR GROUP NO"
   ]
  },
  {
   "cell_type": "code",
   "execution_count": null,
   "metadata": {},
   "outputs": [],
   "source": [
    "# Load data\n",
    "datestr=datetime.today().strftime('%d-%b-%Y')\n",
    "# datestr='01-Feb-2024'\n",
    "url = f'https://gmshroff.pythonanywhere.com/static/data/df_live_test_{datestr}.csv'\n",
    "response = requests.get(url)\n",
    "if response.status_code==200 :\n",
    "    print(f'Downloading live test data for {datestr}')\n",
    "    file_path=f'./data/df_live_test_{datestr}.csv'\n",
    "    with open(file_path, 'wb+') as f:\n",
    "        f.write(response.content)\n",
    "    df_live=pd.read_csv(file_path)\n",
    "    url = f'https://gmshroff.pythonanywhere.com/static/data/df_live_train_{datestr}.csv'\n",
    "else: print(f'test data for {datestr} not ready')\n",
    "response = requests.get(url)\n",
    "if response.status_code==200:\n",
    "    print(f'Downloading live training data for {datestr}')\n",
    "    file_path=f'./data/df_live_train_{datestr}.csv'\n",
    "    with open(file_path, 'wb+') as f:\n",
    "        f.write(response.content)\n",
    "    df_train=pd.read_csv(file_path)\n",
    "else: print(f'train data for {datestr} not ready')"
   ]
  },
  {
   "cell_type": "code",
   "execution_count": null,
   "metadata": {},
   "outputs": [],
   "source": [
    "class DummyModel:\n",
    "    def __init__(self):\n",
    "        pass\n",
    "    def fit(self,X_train,y_train):\n",
    "        pass\n",
    "    def predict(self,X_test):\n",
    "        y_preds=np.array([2 for i in range(X_test.shape[0])])\n",
    "        # print(X_test,y_preds)\n",
    "        return y_preds\n",
    "classifier=DummyModel()"
   ]
  },
  {
   "cell_type": "code",
   "execution_count": null,
   "metadata": {},
   "outputs": [],
   "source": [
    "### INSERT YOUR CODE TO LOAD AND ADAPT/FINE-TUNE YOUR CLASSIFIER HERE"
   ]
  },
  {
   "cell_type": "code",
   "execution_count": null,
   "metadata": {},
   "outputs": [],
   "source": [
    "# Function to run your classifier\n",
    "USE_CLASSIFIER=True # Make this True if you have prepared a classifier\n",
    "def run_model(df,df_live_seq,classifier=None):\n",
    "    pf=pd.DataFrame(columns=['id','predictions'])\n",
    "    if USE_CLASSIFIER:\n",
    "        X_train=np.array(df_live_seq[COLS].values)\n",
    "        y_train=df_live_seq[TARGET].values.squeeze()\n",
    "        y_train=np.array([int(y*4) for y in y_train])\n",
    "        # print(X_train.shape,y_train.shape)\n",
    "        classifier.fit(X_train,y_train)\n",
    "        X_test=np.array(df[COLS].values)\n",
    "        y_preds=classifier.predict(X_test)\n",
    "        # print(y_preds)\n",
    "        pf['id']=df['id']\n",
    "        pf['predictions']=y_preds/4\n",
    "    else:\n",
    "        pf['id']=df['id']\n",
    "        pf['predictions']=.5\n",
    "    return pf"
   ]
  },
  {
   "cell_type": "code",
   "execution_count": null,
   "metadata": {},
   "outputs": [],
   "source": [
    "# Run the classifier\n",
    "pf=run_model(df_live,df_train,classifier)"
   ]
  },
  {
   "cell_type": "code",
   "execution_count": 110,
   "metadata": {},
   "outputs": [],
   "source": [
    "pf.to_csv(f'./data/predictions_{datestr}_group{GROUP_NO}.csv',index=False)"
   ]
  },
  {
   "cell_type": "code",
   "execution_count": null,
   "metadata": {},
   "outputs": [],
   "source": [
    "print(f\"Submit the prediction file ./data/predictions_{datestr}_group{GROUP_NO}.csv via Prexys\")"
   ]
  },
  {
   "cell_type": "code",
   "execution_count": null,
   "metadata": {},
   "outputs": [],
   "source": []
  },
  {
   "cell_type": "code",
   "execution_count": null,
   "metadata": {},
   "outputs": [],
   "source": []
  }
 ],
 "metadata": {
  "kernelspec": {
   "display_name": "py311aml",
   "language": "python",
   "name": "python3"
  },
  "language_info": {
   "codemirror_mode": {
    "name": "ipython",
    "version": 3
   },
   "file_extension": ".py",
   "mimetype": "text/x-python",
   "name": "python",
   "nbconvert_exporter": "python",
   "pygments_lexer": "ipython3",
   "version": "3.11.6"
  }
 },
 "nbformat": 4,
 "nbformat_minor": 2
}
