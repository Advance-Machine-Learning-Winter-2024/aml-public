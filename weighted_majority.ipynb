{
 "cells": [
  {
   "cell_type": "code",
   "execution_count": null,
   "metadata": {},
   "outputs": [],
   "source": [
    "import numpy as np\n",
    "import pandas as pd"
   ]
  },
  {
   "cell_type": "code",
   "execution_count": null,
   "metadata": {},
   "outputs": [],
   "source": [
    "class Predictor():\n",
    "    def __init__(self,column):\n",
    "        self.column=column\n",
    "    def __call__(self,x):\n",
    "        return x[self.column]"
   ]
  },
  {
   "cell_type": "code",
   "execution_count": null,
   "metadata": {},
   "outputs": [],
   "source": [
    "class WeightedMajority():\n",
    "    def __init__(self,beta):\n",
    "        self.weights=[]\n",
    "        self.predictors=[]\n",
    "        self.beta=beta\n",
    "    def add_predictor(self,predictor):\n",
    "        self.predictors+=[predictor]\n",
    "    def initialize(self):\n",
    "        self.n=len(self.predictors)\n",
    "        self.weights=np.ones(self.n)\n",
    "    def __call__(self,x,y=None):\n",
    "        # INSERT YOUR CODE HERE REPLACING THE LINE BELOW\n",
    "        prediction=np.random.choice([0,1])\n",
    "        return prediction"
   ]
  },
  {
   "cell_type": "code",
   "execution_count": null,
   "metadata": {},
   "outputs": [],
   "source": [
    "net=WeightedMajority(.9)\n",
    "for i in range(50):\n",
    "    net.add_predictor(Predictor(i))\n",
    "net.initialize()"
   ]
  },
  {
   "cell_type": "code",
   "execution_count": null,
   "metadata": {},
   "outputs": [],
   "source": [
    "#Random data concept = last column\n",
    "data=np.random.choice([1,0],size=(500,50))\n",
    "data=np.concatenate((data,data[:,-1:]),axis=1)\n",
    "np_training_data=data[0:250,:]\n",
    "np_testing_data=data[250:,:]"
   ]
  },
  {
   "cell_type": "code",
   "execution_count": null,
   "metadata": {},
   "outputs": [],
   "source": [
    "def test_accuracy(net,data):\n",
    "    m,n=0,0\n",
    "    for s in np_testing_data:\n",
    "        x,y=s[0:-1],s[-1]\n",
    "        pred=net(x)\n",
    "        if pred==y: n+=1\n",
    "        m+=1\n",
    "    return n/m\n",
    "    # print(f'{n} of {m} correct; accuracy {n/m}')"
   ]
  },
  {
   "cell_type": "code",
   "execution_count": null,
   "metadata": {},
   "outputs": [],
   "source": [
    "m,n=0,0\n",
    "accL=[]\n",
    "n_epochs=1\n",
    "for e in range(n_epochs):\n",
    "    for s in np_training_data:\n",
    "        x,y=s[0:-1],s[-1]\n",
    "        pred=net(x,y)\n",
    "        accL+=[test_accuracy(net,np_testing_data)]\n",
    "        if pred==y: n+=1\n",
    "        m+=1\n",
    "print(net.weights)\n",
    "print(f'{n} of {m} correct; accuracy {n/m}')"
   ]
  },
  {
   "cell_type": "code",
   "execution_count": null,
   "metadata": {},
   "outputs": [],
   "source": [
    "# Generate data for a random concept\n",
    "def gen_data():\n",
    "    c=np.random.choice([i for i in range(50)])\n",
    "    data=np.random.choice([1,0],size=(500,50))\n",
    "    data=np.concatenate((data,data[:,c:c+1]),axis=1)\n",
    "    np_training_data=data[0:250,:]\n",
    "    np_testing_data=data[250:,:]\n",
    "    return np_training_data,np_testing_data"
   ]
  },
  {
   "cell_type": "code",
   "execution_count": null,
   "metadata": {},
   "outputs": [],
   "source": [
    "net=WeightedMajority(.9)\n",
    "for i in range(50):\n",
    "    net.add_predictor(Predictor(i))\n",
    "net.initialize()"
   ]
  },
  {
   "cell_type": "code",
   "execution_count": null,
   "metadata": {},
   "outputs": [],
   "source": [
    "m,n=0,0\n",
    "accL=[]\n",
    "n_epochs=5\n",
    "for e in range(n_epochs):\n",
    "    np_training_data,np_testing_data=gen_data()\n",
    "    for s in np_training_data:\n",
    "        x,y=s[0:-1],s[-1]\n",
    "        pred=net(x,y)\n",
    "        accL+=[test_accuracy(net,np_testing_data)]\n",
    "        if pred==y: n+=1\n",
    "        m+=1\n",
    "print(net.weights)\n",
    "print(f'{n} of {m} correct; accuracy {n/m}')"
   ]
  },
  {
   "cell_type": "code",
   "execution_count": null,
   "metadata": {},
   "outputs": [],
   "source": [
    "import plotly.express as px"
   ]
  },
  {
   "cell_type": "code",
   "execution_count": null,
   "metadata": {},
   "outputs": [],
   "source": [
    "px.line(accL).show()"
   ]
  },
  {
   "cell_type": "code",
   "execution_count": null,
   "metadata": {},
   "outputs": [],
   "source": []
  }
 ],
 "metadata": {
  "kernelspec": {
   "display_name": "py311aml",
   "language": "python",
   "name": "python3"
  },
  "language_info": {
   "codemirror_mode": {
    "name": "ipython",
    "version": 3
   },
   "file_extension": ".py",
   "mimetype": "text/x-python",
   "name": "python",
   "nbconvert_exporter": "python",
   "pygments_lexer": "ipython3",
   "version": "3.11.6"
  }
 },
 "nbformat": 4,
 "nbformat_minor": 2
}
