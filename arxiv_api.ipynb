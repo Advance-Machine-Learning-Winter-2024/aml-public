{
 "cells": [
  {
   "cell_type": "code",
   "execution_count": 1,
   "metadata": {},
   "outputs": [],
   "source": [
    "import urllib, urllib.request, xmltodict, feedparser\n",
    "from datetime import datetime\n",
    "from time import mktime\n",
    "import pprint"
   ]
  },
  {
   "cell_type": "code",
   "execution_count": 2,
   "metadata": {},
   "outputs": [],
   "source": [
    "def get_title_abs_arxiv(url):\n",
    "    if 'arxiv' not in url: return -1,{}\n",
    "    if 'pdf' in url: arxiv_id=''.join(url.split('pdf')[-2:-1])[1:-1]\n",
    "    else: arxiv_id=url.split('/')[-1]\n",
    "    query_url='http://export.arxiv.org/api/query?id_list='+arxiv_id\n",
    "    data_dict = xmltodict.parse(urllib.request.urlopen(query_url).read())['feed']\n",
    "    return 0,{'title':data_dict['entry']['title'],'abstract':' '.join(data_dict['entry']['summary'].split('\\n'))}"
   ]
  },
  {
   "cell_type": "code",
   "execution_count": 8,
   "metadata": {},
   "outputs": [],
   "source": [
    "def fetch_daily_arxiv_papers(cat='cs.LG'):\n",
    "    feedurl=f'https://rss.arxiv.org/rss/{cat}'\n",
    "    feed=feedparser.parse(feedurl)\n",
    "    datestr=datetime.fromtimestamp(mktime(feed['feed']['published_parsed'])).strftime('%d-%b-%Y')\n",
    "    daily_papers=[]\n",
    "    for e in feed['entries']:\n",
    "        paper_entry={'id':e['id'],'title':e['title'],\n",
    "                     'abstract':' '.join(e['summary'].split('\\n')),\n",
    "                     'date':datestr}\n",
    "        daily_papers.append(paper_entry)\n",
    "    return daily_papers"
   ]
  },
  {
   "cell_type": "code",
   "execution_count": null,
   "metadata": {},
   "outputs": [],
   "source": []
  }
 ],
 "metadata": {
  "kernelspec": {
   "display_name": "py39nlp",
   "language": "python",
   "name": "python3"
  },
  "language_info": {
   "codemirror_mode": {
    "name": "ipython",
    "version": 3
   },
   "file_extension": ".py",
   "mimetype": "text/x-python",
   "name": "python",
   "nbconvert_exporter": "python",
   "pygments_lexer": "ipython3",
   "version": "3.10.13"
  },
  "orig_nbformat": 4
 },
 "nbformat": 4,
 "nbformat_minor": 2
}
