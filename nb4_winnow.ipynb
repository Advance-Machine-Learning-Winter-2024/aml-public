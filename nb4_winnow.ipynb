{
 "cells": [
  {
   "cell_type": "code",
   "execution_count": null,
   "id": "0117500a-ed32-4874-969c-ab6200f7ced7",
   "metadata": {},
   "outputs": [],
   "source": [
    "import numpy as np\n",
    "import pandas as pd\n",
    "import torch"
   ]
  },
  {
   "cell_type": "code",
   "execution_count": null,
   "id": "3c13da40-8bb0-49b0-9c1b-771f5a52f36d",
   "metadata": {},
   "outputs": [],
   "source": [
    "class Perceptron():\n",
    "    def __init__(self,train=True,theta=.5,alpha=1e-1):\n",
    "        self.weights=[]\n",
    "        self.theta=theta\n",
    "        self.alpha=alpha\n",
    "    def expand(self,x):\n",
    "        x_dim=x.shape[0]\n",
    "        while(x_dim>len(self.weights)): \n",
    "            self.weights+=[.5]\n",
    "        return x,x_dim\n",
    "    def __call__(self,x,y=None):\n",
    "        x,x_dim=self.expand(x)\n",
    "        if np.dot(np.array(self.weights[0:x_dim]),x)>=self.theta: pred=1\n",
    "        else: pred=0\n",
    "        if y==1 and pred==0:\n",
    "            for i in range(x_dim):\n",
    "                if x[i]==1: \n",
    "                    self.weights[i]+=self.alpha\n",
    "        if y==0 and pred==1:\n",
    "            for i in range(x_dim):\n",
    "                if x[i]==1: self.weights[i]-=self.alpha\n",
    "        return pred"
   ]
  },
  {
   "cell_type": "code",
   "execution_count": null,
   "id": "4dbf172c-2693-4c89-adc5-3f322b489832",
   "metadata": {},
   "outputs": [],
   "source": [
    "class Winnow():\n",
    "    def __init__(self,train=True,theta=.5,alpha=2.0):\n",
    "        self.weights=[]\n",
    "        self.train=train\n",
    "        self.theta=theta\n",
    "        self.alpha=alpha\n",
    "    def expand(self,x):\n",
    "        x_dim=x.shape[0]\n",
    "        while(x_dim>len(self.weights)): \n",
    "            self.weights+=[.5]\n",
    "        return x,x_dim\n",
    "    def __call__(self,x,y=None):\n",
    "        x,x_dim=self.expand(x)\n",
    "        if np.dot(np.array(self.weights[0:x_dim]),x)>=self.theta: pred=1\n",
    "        else: pred=0\n",
    "        if y==1 and pred==0:\n",
    "            for i in range(x_dim):\n",
    "                if x[i]==1: \n",
    "                    self.weights[i]*=self.alpha\n",
    "        if y==0 and pred==1:\n",
    "            for i in range(x_dim):\n",
    "                if x[i]==1: self.weights[i]/=self.alpha\n",
    "        return pred"
   ]
  },
  {
   "cell_type": "code",
   "execution_count": null,
   "id": "830754cf-f458-4b01-909d-1e094d028691",
   "metadata": {},
   "outputs": [],
   "source": [
    "DATA_PATH = \"../data/breast_cancer_dataset.csv\"\n",
    "pd_data = pd.read_csv(DATA_PATH, sep=\",\")\n",
    "data=pd_data.values\n",
    "pd_training_data = pd_data.sample(frac=.5, random_state=99)\n",
    "np_training_data = pd_training_data.values[:,1:]\n",
    "pd_testing_data = pd_data.drop(pd_training_data.index)\n",
    "np_testing_data = pd_testing_data.values[1:,1:]"
   ]
  },
  {
   "cell_type": "code",
   "execution_count": null,
   "id": "dab5f9f4-6d30-40e7-8941-9ac989d8157d",
   "metadata": {},
   "outputs": [],
   "source": [
    "#Random data\n",
    "data=np.random.choice([1,0],size=(500,50))\n",
    "data=np.concatenate((data,data[:,-1:]),axis=1)\n",
    "np_training_data=data[0:250,:]\n",
    "np_testing_data=data[250:,:]"
   ]
  },
  {
   "cell_type": "code",
   "execution_count": null,
   "id": "8897f771-c0bb-4d67-9b24-fbf8d9fedcbe",
   "metadata": {},
   "outputs": [],
   "source": [
    "net=Winnow()"
   ]
  },
  {
   "cell_type": "code",
   "execution_count": null,
   "id": "c773ada1-1ddf-415f-b32b-f20d33566d7b",
   "metadata": {},
   "outputs": [],
   "source": [
    "net=Perceptron(alpha=1)"
   ]
  },
  {
   "cell_type": "code",
   "execution_count": null,
   "id": "dd676d60-9ffa-4052-97c5-300d0a97dbde",
   "metadata": {},
   "outputs": [],
   "source": [
    "n_epochs=1"
   ]
  },
  {
   "cell_type": "code",
   "execution_count": null,
   "id": "9a78e565-4a12-4c97-ab6a-d652dc56482a",
   "metadata": {},
   "outputs": [],
   "source": [
    "def test_accuracy(net,data):\n",
    "    m,n=0,0\n",
    "    for s in np_testing_data:\n",
    "        x,y=s[0:-1],s[-1]\n",
    "        pred=net(x)\n",
    "        if pred==y: n+=1\n",
    "        m+=1\n",
    "    return n/m\n",
    "    # print(f'{n} of {m} correct; accuracy {n/m}')"
   ]
  },
  {
   "cell_type": "code",
   "execution_count": null,
   "id": "9de16d0f-61a2-447a-80d6-0d16ed9d2736",
   "metadata": {},
   "outputs": [],
   "source": [
    "m,n=0,0\n",
    "accL=[]\n",
    "for e in range(n_epochs):\n",
    "    for s in np_training_data:\n",
    "        x,y=s[0:-1],s[-1]\n",
    "        pred=net(x,y)\n",
    "        accL+=[test_accuracy(net,np_testing_data)]\n",
    "        if pred==y: n+=1\n",
    "        m+=1\n",
    "print(net.weights)\n",
    "print(f'{n} of {m} correct; accuracy {n/m}')"
   ]
  },
  {
   "cell_type": "code",
   "execution_count": null,
   "id": "32c0838a-132a-4b01-ad72-60b16f0b757e",
   "metadata": {},
   "outputs": [],
   "source": [
    "test_accuracy(net,np_testing_data)"
   ]
  },
  {
   "cell_type": "code",
   "execution_count": null,
   "id": "8ea08927-fa0d-4c70-8e80-71abdbeaedf5",
   "metadata": {},
   "outputs": [],
   "source": [
    "import plotly.express as px"
   ]
  },
  {
   "cell_type": "code",
   "execution_count": null,
   "id": "ae272793-e85c-4406-9b9d-fe96ff6e2e18",
   "metadata": {},
   "outputs": [],
   "source": [
    "px.line(accL).show()"
   ]
  },
  {
   "cell_type": "code",
   "execution_count": null,
   "id": "007ee779-2414-43bd-b957-d6304a253827",
   "metadata": {},
   "outputs": [],
   "source": [
    "px.line(accL).show()"
   ]
  },
  {
   "cell_type": "code",
   "execution_count": null,
   "id": "eb00894b-0e88-45dd-8ac3-b8c832468180",
   "metadata": {},
   "outputs": [],
   "source": [
    "#Random data concept drift\n",
    "#Target concept changes R times, each time a random column is the concept\n",
    "R=5\n",
    "all_data=np.ones((1,51))\n",
    "for r in range(R):\n",
    "    c=np.random.choice([i for i in range(50)])\n",
    "    data=np.random.choice([1,0],size=(100,50))\n",
    "    data=np.concatenate((data,data[:,c:c+1]),axis=1)\n",
    "    all_data=np.concatenate((all_data,data))\n",
    "    # np_training_data=data[0:250,:]\n",
    "    # np_testing_data=data[250:,:]\n",
    "np_training_data=all_data"
   ]
  },
  {
   "cell_type": "code",
   "execution_count": null,
   "id": "2c0b7af9-1c54-4d3c-83c8-df5508559ba1",
   "metadata": {},
   "outputs": [],
   "source": [
    "net=Winnow()"
   ]
  },
  {
   "cell_type": "code",
   "execution_count": null,
   "id": "91421a74-0602-475c-b36e-e655fa471ad4",
   "metadata": {},
   "outputs": [],
   "source": [
    "net=Perceptron(alpha=.1)"
   ]
  },
  {
   "cell_type": "code",
   "execution_count": null,
   "id": "c760e6bc-3c3e-4ae1-aa86-da8b27cdfc92",
   "metadata": {},
   "outputs": [],
   "source": [
    "m,n=0,0\n",
    "accL=[]\n",
    "for e in range(n_epochs):\n",
    "    for s in np_training_data:\n",
    "        x,y=s[0:-1],s[-1]\n",
    "        pred=net(x,y)\n",
    "        if pred==y: n+=1\n",
    "        m+=1\n",
    "        accL+=[n/m]\n",
    "print(net.weights)\n",
    "print(f'{n} of {m} correct; accuracy {n/m}')"
   ]
  },
  {
   "cell_type": "code",
   "execution_count": null,
   "id": "c78cf6c2-d84e-4df8-a9e7-253e1cd0a53a",
   "metadata": {},
   "outputs": [],
   "source": [
    "px.line(accL).show()"
   ]
  },
  {
   "cell_type": "code",
   "execution_count": null,
   "id": "fc42ed28-7b59-449c-8dc3-3702888c1504",
   "metadata": {},
   "outputs": [],
   "source": [
    "px.line(accL).show()"
   ]
  },
  {
   "cell_type": "code",
   "execution_count": null,
   "id": "fae3402d-efe8-4fcc-9edd-c25be9bb7e61",
   "metadata": {},
   "outputs": [],
   "source": []
  }
 ],
 "metadata": {
  "kernelspec": {
   "display_name": "Python 3 (ipykernel)",
   "language": "python",
   "name": "python3"
  },
  "language_info": {
   "codemirror_mode": {
    "name": "ipython",
    "version": 3
   },
   "file_extension": ".py",
   "mimetype": "text/x-python",
   "name": "python",
   "nbconvert_exporter": "python",
   "pygments_lexer": "ipython3",
   "version": "3.11.6"
  }
 },
 "nbformat": 4,
 "nbformat_minor": 5
}
