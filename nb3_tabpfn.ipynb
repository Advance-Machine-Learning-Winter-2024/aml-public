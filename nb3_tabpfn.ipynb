{
 "cells": [
  {
   "cell_type": "code",
   "execution_count": 1,
   "id": "beb436b6-abe4-4543-a684-78e400b1d97a",
   "metadata": {
    "tags": []
   },
   "outputs": [],
   "source": [
    "from sklearn.metrics import accuracy_score\n",
    "from tabpfn.scripts.decision_boundary import DecisionBoundaryDisplay\n",
    "from tabpfn import TabPFNClassifier\n",
    "import pandas as pd\n",
    "import time\n",
    "from tabpfn.scripts.decision_boundary import DecisionBoundaryDisplay"
   ]
  },
  {
   "cell_type": "code",
   "execution_count": 2,
   "id": "84d41d57",
   "metadata": {},
   "outputs": [],
   "source": [
    "import warnings\n",
    "from ucimlrepo import fetch_ucirepo\n",
    "warnings.filterwarnings('ignore')"
   ]
  },
  {
   "cell_type": "code",
   "execution_count": 3,
   "id": "10ba42c0",
   "metadata": {},
   "outputs": [],
   "source": [
    "import import_ipynb\n",
    "import numpy as np\n",
    "import torch"
   ]
  },
  {
   "cell_type": "code",
   "execution_count": 4,
   "id": "e42df46a",
   "metadata": {},
   "outputs": [],
   "source": [
    "# fetch dataset \n",
    "iris = fetch_ucirepo(id=53) \n",
    "  \n",
    "# data (as pandas dataframes) \n",
    "Xf = iris.data.features \n",
    "yf = iris.data.targets \n",
    "classes=yf['class'].unique().tolist()\n",
    "perm = np.random.permutation(150).tolist()\n",
    "Xf,yf=Xf.iloc[perm],yf.iloc[perm]"
   ]
  },
  {
   "cell_type": "code",
   "execution_count": 5,
   "id": "c55d7f85",
   "metadata": {},
   "outputs": [
    {
     "data": {
      "text/plain": [
       "Index(['class'], dtype='object')"
      ]
     },
     "execution_count": 5,
     "metadata": {},
     "output_type": "execute_result"
    }
   ],
   "source": [
    "yf.columns"
   ]
  },
  {
   "cell_type": "code",
   "execution_count": 6,
   "id": "21b303c6",
   "metadata": {},
   "outputs": [],
   "source": [
    "def encode_target(t,classes=classes):\n",
    "    return classes.index(t)\n",
    "yf['label']=yf['class'].apply(encode_target)"
   ]
  },
  {
   "cell_type": "code",
   "execution_count": 7,
   "id": "1f7b5530",
   "metadata": {},
   "outputs": [],
   "source": [
    "train_n=100\n",
    "X=torch.tensor(Xf.iloc[0:train_n].values, dtype=torch.float32)\n",
    "y=torch.tensor(yf.iloc[0:train_n]['label'].values,dtype=torch.float32)\n",
    "Xtest=torch.tensor(Xf.iloc[train_n:].values,dtype=torch.float32)\n",
    "ytest=torch.tensor(yf[train_n:]['label'].values,dtype=torch.float32)"
   ]
  },
  {
   "cell_type": "code",
   "execution_count": 8,
   "id": "910a9ca5-39be-4755-8c92-0e326557f990",
   "metadata": {
    "tags": []
   },
   "outputs": [
    {
     "name": "stdout",
     "output_type": "stream",
     "text": [
      "Loading model that can be used for inference only\n",
      "Using a Transformer with 25.82 M parameters\n"
     ]
    }
   ],
   "source": [
    "classifier = TabPFNClassifier(device='cpu', N_ensemble_configurations=4)"
   ]
  },
  {
   "cell_type": "code",
   "execution_count": 9,
   "id": "763de09a",
   "metadata": {},
   "outputs": [
    {
     "data": {
      "text/plain": [
       "(inf,\n",
       " inf,\n",
       " TransformerModel(\n",
       "   (transformer_encoder): TransformerEncoderDiffInit(\n",
       "     (layers): ModuleList(\n",
       "       (0-11): 12 x TransformerEncoderLayer(\n",
       "         (self_attn): MultiheadAttention(\n",
       "           (out_proj): NonDynamicallyQuantizableLinear(in_features=512, out_features=512, bias=True)\n",
       "         )\n",
       "         (linear1): Linear(in_features=512, out_features=1024, bias=True)\n",
       "         (dropout): Dropout(p=0.0, inplace=False)\n",
       "         (linear2): Linear(in_features=1024, out_features=512, bias=True)\n",
       "         (norm1): LayerNorm((512,), eps=1e-05, elementwise_affine=True)\n",
       "         (norm2): LayerNorm((512,), eps=1e-05, elementwise_affine=True)\n",
       "         (dropout1): Dropout(p=0.0, inplace=False)\n",
       "         (dropout2): Dropout(p=0.0, inplace=False)\n",
       "       )\n",
       "     )\n",
       "   )\n",
       "   (encoder): Linear(in_features=100, out_features=512, bias=True)\n",
       "   (y_encoder): Linear(in_features=1, out_features=512, bias=True)\n",
       "   (decoder): Sequential(\n",
       "     (0): Linear(in_features=512, out_features=1024, bias=True)\n",
       "     (1): GELU(approximate='none')\n",
       "     (2): Linear(in_features=1024, out_features=10, bias=True)\n",
       "   )\n",
       "   (criterion): CrossEntropyLoss()\n",
       " ))"
      ]
     },
     "execution_count": 9,
     "metadata": {},
     "output_type": "execute_result"
    }
   ],
   "source": [
    "classifier.model"
   ]
  },
  {
   "cell_type": "code",
   "execution_count": 10,
   "id": "f1e7da28",
   "metadata": {},
   "outputs": [
    {
     "data": {
      "text/plain": [
       "torch.Size([100, 4])"
      ]
     },
     "execution_count": 10,
     "metadata": {},
     "output_type": "execute_result"
    }
   ],
   "source": [
    "X.shape"
   ]
  },
  {
   "cell_type": "code",
   "execution_count": 11,
   "id": "e13c06cf-c8df-4694-8c6b-2dd90c09811e",
   "metadata": {
    "tags": []
   },
   "outputs": [
    {
     "name": "stderr",
     "output_type": "stream",
     "text": [
      "<frozen importlib._bootstrap>:1047: ImportWarning: NotebookFinder.find_spec() not found; falling back to find_module()\n",
      "/opt/homebrew/Caskroom/miniforge/base/envs/py311aml/lib/python3.11/site-packages/torch/utils/checkpoint.py:429: UserWarning: torch.utils.checkpoint: please pass in use_reentrant=True or use_reentrant=False explicitly. The default value of use_reentrant will be updated to be False in the future. To maintain current behavior, pass use_reentrant=True. It is recommended that you use use_reentrant=False. Refer to docs for more details on the differences between the two variants.\n",
      "  warnings.warn(\n"
     ]
    }
   ],
   "source": [
    "start = time.time()\n",
    "classifier.fit(X, y,overwrite_warning=True)\n",
    "y_eval, p_eval = classifier.predict(Xtest, return_winning_probability=True)\n",
    "prediction_time = time.time() - start"
   ]
  },
  {
   "cell_type": "code",
   "execution_count": 12,
   "id": "8a2f1b7e",
   "metadata": {},
   "outputs": [
    {
     "name": "stdout",
     "output_type": "stream",
     "text": [
      "Prediction time:  0.3722970485687256 Accuracy 0.9\n"
     ]
    }
   ],
   "source": [
    "print('Prediction time: ',prediction_time , 'Accuracy', accuracy_score(ytest, y_eval))"
   ]
  },
  {
   "cell_type": "code",
   "execution_count": 13,
   "id": "e7fb1fc9",
   "metadata": {},
   "outputs": [
    {
     "data": {
      "text/plain": [
       "array([0.99993277, 0.99986136, 0.99995756, 0.9999453 , 0.99997807,\n",
       "       0.9997464 , 0.99999547, 0.9973315 , 0.9999739 , 0.9999932 ,\n",
       "       0.99990165, 0.9999156 , 0.82632595, 0.9889952 , 0.99965894,\n",
       "       0.9997125 , 0.9995603 , 0.9999689 , 0.9489015 , 0.9805449 ,\n",
       "       0.999912  , 0.99988353, 0.9998648 , 0.99951315, 0.9452035 ,\n",
       "       0.99744225, 0.9545728 , 0.9999962 , 0.9999951 , 0.99999154,\n",
       "       0.8975054 , 0.99998283, 0.9997664 , 0.6342137 , 0.9998846 ,\n",
       "       0.99999416, 0.9999769 , 0.99998605, 0.86943674, 0.99960405,\n",
       "       0.91614383, 0.9999876 , 0.99994695, 0.9999641 , 0.9999778 ,\n",
       "       0.9994955 , 0.9981274 , 0.97373474, 0.9999486 , 0.9998053 ],\n",
       "      dtype=float32)"
      ]
     },
     "execution_count": 13,
     "metadata": {},
     "output_type": "execute_result"
    }
   ],
   "source": [
    "p_eval"
   ]
  },
  {
   "cell_type": "code",
   "execution_count": 14,
   "id": "d2ae6809",
   "metadata": {},
   "outputs": [
    {
     "name": "stderr",
     "output_type": "stream",
     "text": [
      "/opt/homebrew/Caskroom/miniforge/base/envs/py311aml/lib/python3.11/site-packages/torch/utils/checkpoint.py:429: UserWarning: torch.utils.checkpoint: please pass in use_reentrant=True or use_reentrant=False explicitly. The default value of use_reentrant will be updated to be False in the future. To maintain current behavior, pass use_reentrant=True. It is recommended that you use use_reentrant=False. Refer to docs for more details on the differences between the two variants.\n",
      "  warnings.warn(\n"
     ]
    }
   ],
   "source": [
    "y_eval_train, p_eval_train = classifier.predict(X, return_winning_probability=True)"
   ]
  },
  {
   "cell_type": "code",
   "execution_count": 15,
   "id": "ace96ef3",
   "metadata": {},
   "outputs": [
    {
     "name": "stdout",
     "output_type": "stream",
     "text": [
      "Prediction time:  0.3722970485687256 Accuracy 1.0\n"
     ]
    }
   ],
   "source": [
    "print('Prediction time: ',prediction_time , 'Accuracy', accuracy_score(y, y_eval_train))"
   ]
  },
  {
   "cell_type": "code",
   "execution_count": null,
   "id": "408e7f0f-1f7d-491c-a0c9-cec29b7e5aaa",
   "metadata": {
    "tags": []
   },
   "outputs": [],
   "source": [
    "probs=classifier.predict_proba(Xtest)"
   ]
  },
  {
   "cell_type": "code",
   "execution_count": null,
   "id": "a6a5b145-9fd9-4081-a8bf-8164a9f6a343",
   "metadata": {
    "tags": []
   },
   "outputs": [],
   "source": [
    "probs"
   ]
  },
  {
   "cell_type": "code",
   "execution_count": null,
   "id": "22723d66-58af-4325-b2da-8a2ffe2c697e",
   "metadata": {
    "tags": []
   },
   "outputs": [],
   "source": [
    "from sklearn.metrics import confusion_matrix"
   ]
  },
  {
   "cell_type": "code",
   "execution_count": null,
   "id": "75b8fa94-e0ba-4a66-901d-74c611977858",
   "metadata": {
    "tags": []
   },
   "outputs": [],
   "source": [
    "confusion_matrix(ytest, y_eval)"
   ]
  },
  {
   "cell_type": "code",
   "execution_count": null,
   "id": "960d13bd-f7b4-4de3-952e-6c1dde817f42",
   "metadata": {},
   "outputs": [],
   "source": [
    "def gini(probs):\n",
    "    # return [1-sum([p**p for p in pv]) for pv in probs]\n",
    "    return [1-sum([p**2 for p in pv]) for pv in probs]\n"
   ]
  },
  {
   "cell_type": "code",
   "execution_count": null,
   "id": "93694395",
   "metadata": {},
   "outputs": [],
   "source": [
    "gini(probs)"
   ]
  },
  {
   "cell_type": "code",
   "execution_count": null,
   "id": "f683ec1c",
   "metadata": {},
   "outputs": [],
   "source": [
    "# fetch dataset \n",
    "beans = fetch_ucirepo(id=850) \n",
    "# data (as pandas dataframes) \n",
    "Xf = beans.data.features \n",
    "yf = beans.data.targets "
   ]
  },
  {
   "cell_type": "code",
   "execution_count": null,
   "id": "b76dc029",
   "metadata": {},
   "outputs": [],
   "source": [
    "yf"
   ]
  },
  {
   "cell_type": "code",
   "execution_count": null,
   "id": "d501f16d",
   "metadata": {},
   "outputs": [],
   "source": [
    "target='Class'\n",
    "classes=yf[target].unique().tolist()\n",
    "perm = np.random.permutation(Xf.shape[0]).tolist()\n",
    "Xf,yf=Xf.iloc[perm],yf.iloc[perm]"
   ]
  },
  {
   "cell_type": "code",
   "execution_count": null,
   "id": "a8b28870",
   "metadata": {},
   "outputs": [],
   "source": [
    "def encode_target(t,classes=classes):\n",
    "    return classes.index(t)"
   ]
  },
  {
   "cell_type": "code",
   "execution_count": null,
   "id": "ec6fa2c5",
   "metadata": {},
   "outputs": [],
   "source": [
    "yf['label']=yf['Class'].apply(encode_target)"
   ]
  },
  {
   "cell_type": "code",
   "execution_count": null,
   "id": "7e322beb",
   "metadata": {},
   "outputs": [],
   "source": [
    "Xf.shape"
   ]
  },
  {
   "cell_type": "code",
   "execution_count": null,
   "id": "96b4a935",
   "metadata": {},
   "outputs": [],
   "source": [
    "train_n=700\n",
    "X=torch.tensor(Xf.iloc[0:train_n].values, dtype=torch.float32)\n",
    "y=torch.tensor(yf.iloc[0:train_n]['label'].values,dtype=torch.float32)\n",
    "Xtest=torch.tensor(Xf.iloc[train_n:].values,dtype=torch.float32)\n",
    "ytest=torch.tensor(yf[train_n:]['label'].values,dtype=torch.float32)"
   ]
  },
  {
   "cell_type": "code",
   "execution_count": null,
   "id": "9e6f10e1",
   "metadata": {},
   "outputs": [],
   "source": [
    "classifier = TabPFNClassifier(device='cpu', N_ensemble_configurations=4)"
   ]
  },
  {
   "cell_type": "code",
   "execution_count": null,
   "id": "c4d5ad3a",
   "metadata": {},
   "outputs": [],
   "source": [
    "start = time.time()\n",
    "classifier.fit(X, y,overwrite_warning=True)\n",
    "y_eval, p_eval = classifier.predict(Xtest, return_winning_probability=True)\n",
    "prediction_time = time.time() - start"
   ]
  },
  {
   "cell_type": "code",
   "execution_count": null,
   "id": "dfe31abe",
   "metadata": {},
   "outputs": [],
   "source": [
    "print('Prediction time: ',prediction_time , 'Accuracy', accuracy_score(ytest, y_eval))"
   ]
  },
  {
   "cell_type": "code",
   "execution_count": null,
   "id": "dc09294a",
   "metadata": {},
   "outputs": [],
   "source": [
    "confusion_matrix(ytest, y_eval)"
   ]
  },
  {
   "cell_type": "markdown",
   "id": "546994ff",
   "metadata": {},
   "source": [
    "## Calibration"
   ]
  },
  {
   "cell_type": "code",
   "execution_count": 16,
   "id": "b2477a62",
   "metadata": {},
   "outputs": [
    {
     "name": "stderr",
     "output_type": "stream",
     "text": [
      "<frozen importlib._bootstrap>:1047: ImportWarning: NotebookFinder.find_spec() not found; falling back to find_module()\n",
      "/opt/homebrew/Caskroom/miniforge/base/envs/py311aml/lib/python3.11/site-packages/lightning_utilities/core/imports.py:14: DeprecationWarning: pkg_resources is deprecated as an API. See https://setuptools.pypa.io/en/latest/pkg_resources.html\n",
      "  import pkg_resources\n",
      "<frozen importlib._bootstrap>:1047: ImportWarning: NotebookFinder.find_spec() not found; falling back to find_module()\n",
      "<frozen importlib._bootstrap>:1047: ImportWarning: NotebookFinder.find_spec() not found; falling back to find_module()\n",
      "<frozen importlib._bootstrap>:1047: ImportWarning: NotebookFinder.find_spec() not found; falling back to find_module()\n",
      "<frozen importlib._bootstrap>:1047: ImportWarning: NotebookFinder.find_spec() not found; falling back to find_module()\n",
      "<frozen importlib._bootstrap>:1047: ImportWarning: NotebookFinder.find_spec() not found; falling back to find_module()\n"
     ]
    }
   ],
   "source": [
    "from torchmetrics.functional import calibration_error"
   ]
  },
  {
   "cell_type": "code",
   "execution_count": 17,
   "id": "40d93615",
   "metadata": {},
   "outputs": [],
   "source": [
    "from sklearn.calibration import CalibrationDisplay"
   ]
  },
  {
   "cell_type": "code",
   "execution_count": null,
   "id": "482d86f6",
   "metadata": {},
   "outputs": [],
   "source": [
    "probs=torch.tensor(classifier.predict_proba(Xtest))"
   ]
  },
  {
   "cell_type": "code",
   "execution_count": 35,
   "id": "d438903c",
   "metadata": {},
   "outputs": [],
   "source": [
    "def binarize(target,c):\n",
    "    return np.array([1 if t==c else 0 for t in target])"
   ]
  },
  {
   "cell_type": "code",
   "execution_count": null,
   "id": "738ff6e4",
   "metadata": {},
   "outputs": [],
   "source": [
    "binarize(ytest,1)"
   ]
  },
  {
   "cell_type": "code",
   "execution_count": null,
   "id": "60560719",
   "metadata": {},
   "outputs": [],
   "source": [
    "CalibrationDisplay.from_predictions(y_true=binarize(ytest,2),y_prob=probs[:,2])"
   ]
  },
  {
   "cell_type": "code",
   "execution_count": null,
   "id": "ecfb3d91",
   "metadata": {},
   "outputs": [],
   "source": [
    "probs_train=torch.tensor(classifier.predict_proba(X)).softmax(dim=1)"
   ]
  },
  {
   "cell_type": "code",
   "execution_count": null,
   "id": "ed013a78",
   "metadata": {},
   "outputs": [],
   "source": [
    "CalibrationDisplay.from_predictions(y_true=binarize(y,2),y_prob=probs_train.softmax(dim=1)[:,2])"
   ]
  },
  {
   "cell_type": "markdown",
   "id": "5cfac66a",
   "metadata": {},
   "source": []
  },
  {
   "cell_type": "code",
   "execution_count": 18,
   "id": "8a5fb45a",
   "metadata": {},
   "outputs": [],
   "source": [
    "from temperature_scaling import ModelWithTemperature"
   ]
  },
  {
   "cell_type": "code",
   "execution_count": 19,
   "id": "43867498",
   "metadata": {},
   "outputs": [],
   "source": [
    "from functools import partial"
   ]
  },
  {
   "cell_type": "code",
   "execution_count": 20,
   "id": "4db9ac2b",
   "metadata": {},
   "outputs": [],
   "source": [
    "import torch.nn as nn"
   ]
  },
  {
   "cell_type": "code",
   "execution_count": 21,
   "id": "04dbae93",
   "metadata": {},
   "outputs": [],
   "source": [
    "class WrappedModel(nn.Module):\n",
    "    def __init__(self,tabpfnmodel,label_index=None):\n",
    "        super().__init__()\n",
    "        self.classifier=tabpfnmodel\n",
    "        self.label_index=label_index\n",
    "    def __call__(self,X):\n",
    "        probs=self.classifier.predict_proba(X)\n",
    "        if self.label_index is None: return torch.tensor(probs)\n",
    "        else: return torch.tensor(probs[:,self.label_index])"
   ]
  },
  {
   "cell_type": "code",
   "execution_count": 22,
   "id": "3a959137",
   "metadata": {},
   "outputs": [],
   "source": [
    "tabmodel=WrappedModel(classifier)"
   ]
  },
  {
   "cell_type": "code",
   "execution_count": 23,
   "id": "8a371651",
   "metadata": {},
   "outputs": [
    {
     "name": "stderr",
     "output_type": "stream",
     "text": [
      "/opt/homebrew/Caskroom/miniforge/base/envs/py311aml/lib/python3.11/site-packages/torch/utils/checkpoint.py:429: UserWarning: torch.utils.checkpoint: please pass in use_reentrant=True or use_reentrant=False explicitly. The default value of use_reentrant will be updated to be False in the future. To maintain current behavior, pass use_reentrant=True. It is recommended that you use use_reentrant=False. Refer to docs for more details on the differences between the two variants.\n",
      "  warnings.warn(\n"
     ]
    },
    {
     "data": {
      "text/plain": [
       "tensor([[9.9993e-01, 5.1763e-05, 1.5460e-05],\n",
       "        [1.9862e-06, 9.9986e-01, 1.3665e-04],\n",
       "        [2.4551e-06, 9.9996e-01, 3.9931e-05],\n",
       "        [9.9995e-01, 5.1465e-05, 3.1783e-06],\n",
       "        [7.8884e-06, 9.9998e-01, 1.4090e-05],\n",
       "        [3.3842e-06, 2.5022e-04, 9.9975e-01],\n",
       "        [1.0000e+00, 3.8824e-06, 5.9161e-07],\n",
       "        [1.2876e-05, 9.9733e-01, 2.6557e-03],\n",
       "        [8.7357e-07, 2.5263e-05, 9.9997e-01],\n",
       "        [9.9999e-01, 6.3034e-06, 4.7194e-07],\n",
       "        [1.4718e-05, 8.3642e-05, 9.9990e-01],\n",
       "        [9.9992e-01, 8.2464e-05, 1.8681e-06],\n",
       "        [3.7881e-05, 8.2633e-01, 1.7364e-01],\n",
       "        [3.1853e-06, 1.1002e-02, 9.8900e-01],\n",
       "        [7.2043e-06, 3.3387e-04, 9.9966e-01],\n",
       "        [4.3389e-06, 9.9971e-01, 2.8318e-04],\n",
       "        [5.5224e-05, 3.8441e-04, 9.9956e-01],\n",
       "        [9.9997e-01, 3.0494e-05, 5.4508e-07],\n",
       "        [2.6624e-05, 5.1072e-02, 9.4890e-01],\n",
       "        [1.6871e-05, 1.9438e-02, 9.8054e-01],\n",
       "        [9.9991e-01, 8.6570e-05, 1.4333e-06],\n",
       "        [1.4182e-05, 9.9988e-01, 1.0229e-04],\n",
       "        [1.1928e-05, 1.2328e-04, 9.9986e-01],\n",
       "        [9.9951e-01, 4.8383e-04, 3.0293e-06],\n",
       "        [7.1313e-05, 9.4520e-01, 5.4725e-02],\n",
       "        [4.4466e-06, 9.9744e-01, 2.5533e-03],\n",
       "        [1.2742e-05, 9.5457e-01, 4.5414e-02],\n",
       "        [2.1253e-06, 1.0000e+00, 1.6638e-06],\n",
       "        [1.0000e+00, 4.4136e-06, 4.2537e-07],\n",
       "        [9.9999e-01, 7.1317e-06, 1.2582e-06],\n",
       "        [1.3566e-05, 1.0248e-01, 8.9751e-01],\n",
       "        [9.9998e-01, 1.5145e-05, 2.0381e-06],\n",
       "        [1.2779e-04, 9.9977e-01, 1.0583e-04],\n",
       "        [1.2163e-04, 6.3421e-01, 3.6566e-01],\n",
       "        [1.6096e-05, 9.9988e-01, 9.9243e-05],\n",
       "        [2.6760e-06, 9.9999e-01, 3.2403e-06],\n",
       "        [9.9998e-01, 2.2568e-05, 6.5031e-07],\n",
       "        [8.9380e-06, 9.9999e-01, 5.0211e-06],\n",
       "        [5.6536e-05, 8.6944e-01, 1.3051e-01],\n",
       "        [4.4477e-05, 3.5149e-04, 9.9960e-01],\n",
       "        [9.5845e-06, 8.3847e-02, 9.1614e-01],\n",
       "        [9.9999e-01, 1.1363e-05, 1.0417e-06],\n",
       "        [6.8536e-06, 9.9995e-01, 4.6226e-05],\n",
       "        [9.9996e-01, 3.4838e-05, 1.0797e-06],\n",
       "        [9.9998e-01, 2.0329e-05, 1.7533e-06],\n",
       "        [1.1879e-04, 3.8565e-04, 9.9950e-01],\n",
       "        [4.0698e-06, 9.9813e-01, 1.8685e-03],\n",
       "        [2.5270e-05, 9.7373e-01, 2.6240e-02],\n",
       "        [2.0541e-05, 9.9995e-01, 3.0823e-05],\n",
       "        [9.9981e-01, 1.9194e-04, 2.8953e-06]])"
      ]
     },
     "execution_count": 23,
     "metadata": {},
     "output_type": "execute_result"
    }
   ],
   "source": [
    "tabmodel(Xtest)"
   ]
  },
  {
   "cell_type": "code",
   "execution_count": 24,
   "id": "cfa79135",
   "metadata": {},
   "outputs": [],
   "source": [
    "model=ModelWithTemperature(tabmodel)"
   ]
  },
  {
   "cell_type": "code",
   "execution_count": 25,
   "id": "c27cb3a6",
   "metadata": {},
   "outputs": [
    {
     "name": "stdout",
     "output_type": "stream",
     "text": [
      "importing Jupyter notebook from utils.ipynb\n"
     ]
    },
    {
     "name": "stderr",
     "output_type": "stream",
     "text": [
      "<frozen importlib._bootstrap>:1047: ImportWarning: NotebookFinder.find_spec() not found; falling back to find_module()\n",
      "<frozen importlib._bootstrap>:673: ImportWarning: NotebookLoader.exec_module() not found; falling back to load_module()\n"
     ]
    }
   ],
   "source": [
    "from utils import MyDS"
   ]
  },
  {
   "cell_type": "code",
   "execution_count": 26,
   "id": "bd598118",
   "metadata": {},
   "outputs": [],
   "source": [
    "loader=torch.utils.data.DataLoader(MyDS(Xf.iloc[train_n:].values,yf[train_n:]['label'].values))"
   ]
  },
  {
   "cell_type": "markdown",
   "id": "c1e1096d",
   "metadata": {},
   "source": []
  },
  {
   "cell_type": "code",
   "execution_count": 32,
   "id": "3a076856",
   "metadata": {},
   "outputs": [
    {
     "name": "stderr",
     "output_type": "stream",
     "text": [
      "/opt/homebrew/Caskroom/miniforge/base/envs/py311aml/lib/python3.11/site-packages/torch/utils/checkpoint.py:429: UserWarning: torch.utils.checkpoint: please pass in use_reentrant=True or use_reentrant=False explicitly. The default value of use_reentrant will be updated to be False in the future. To maintain current behavior, pass use_reentrant=True. It is recommended that you use use_reentrant=False. Refer to docs for more details on the differences between the two variants.\n",
      "  warnings.warn(\n",
      "/opt/homebrew/Caskroom/miniforge/base/envs/py311aml/lib/python3.11/site-packages/torch/utils/checkpoint.py:429: UserWarning: torch.utils.checkpoint: please pass in use_reentrant=True or use_reentrant=False explicitly. The default value of use_reentrant will be updated to be False in the future. To maintain current behavior, pass use_reentrant=True. It is recommended that you use use_reentrant=False. Refer to docs for more details on the differences between the two variants.\n",
      "  warnings.warn(\n",
      "/opt/homebrew/Caskroom/miniforge/base/envs/py311aml/lib/python3.11/site-packages/torch/utils/checkpoint.py:429: UserWarning: torch.utils.checkpoint: please pass in use_reentrant=True or use_reentrant=False explicitly. The default value of use_reentrant will be updated to be False in the future. To maintain current behavior, pass use_reentrant=True. It is recommended that you use use_reentrant=False. Refer to docs for more details on the differences between the two variants.\n",
      "  warnings.warn(\n",
      "/opt/homebrew/Caskroom/miniforge/base/envs/py311aml/lib/python3.11/site-packages/torch/utils/checkpoint.py:429: UserWarning: torch.utils.checkpoint: please pass in use_reentrant=True or use_reentrant=False explicitly. The default value of use_reentrant will be updated to be False in the future. To maintain current behavior, pass use_reentrant=True. It is recommended that you use use_reentrant=False. Refer to docs for more details on the differences between the two variants.\n",
      "  warnings.warn(\n",
      "/opt/homebrew/Caskroom/miniforge/base/envs/py311aml/lib/python3.11/site-packages/torch/utils/checkpoint.py:429: UserWarning: torch.utils.checkpoint: please pass in use_reentrant=True or use_reentrant=False explicitly. The default value of use_reentrant will be updated to be False in the future. To maintain current behavior, pass use_reentrant=True. It is recommended that you use use_reentrant=False. Refer to docs for more details on the differences between the two variants.\n",
      "  warnings.warn(\n",
      "/opt/homebrew/Caskroom/miniforge/base/envs/py311aml/lib/python3.11/site-packages/torch/utils/checkpoint.py:429: UserWarning: torch.utils.checkpoint: please pass in use_reentrant=True or use_reentrant=False explicitly. The default value of use_reentrant will be updated to be False in the future. To maintain current behavior, pass use_reentrant=True. It is recommended that you use use_reentrant=False. Refer to docs for more details on the differences between the two variants.\n",
      "  warnings.warn(\n",
      "/opt/homebrew/Caskroom/miniforge/base/envs/py311aml/lib/python3.11/site-packages/torch/utils/checkpoint.py:429: UserWarning: torch.utils.checkpoint: please pass in use_reentrant=True or use_reentrant=False explicitly. The default value of use_reentrant will be updated to be False in the future. To maintain current behavior, pass use_reentrant=True. It is recommended that you use use_reentrant=False. Refer to docs for more details on the differences between the two variants.\n",
      "  warnings.warn(\n",
      "/opt/homebrew/Caskroom/miniforge/base/envs/py311aml/lib/python3.11/site-packages/torch/utils/checkpoint.py:429: UserWarning: torch.utils.checkpoint: please pass in use_reentrant=True or use_reentrant=False explicitly. The default value of use_reentrant will be updated to be False in the future. To maintain current behavior, pass use_reentrant=True. It is recommended that you use use_reentrant=False. Refer to docs for more details on the differences between the two variants.\n",
      "  warnings.warn(\n",
      "/opt/homebrew/Caskroom/miniforge/base/envs/py311aml/lib/python3.11/site-packages/torch/utils/checkpoint.py:429: UserWarning: torch.utils.checkpoint: please pass in use_reentrant=True or use_reentrant=False explicitly. The default value of use_reentrant will be updated to be False in the future. To maintain current behavior, pass use_reentrant=True. It is recommended that you use use_reentrant=False. Refer to docs for more details on the differences between the two variants.\n",
      "  warnings.warn(\n",
      "/opt/homebrew/Caskroom/miniforge/base/envs/py311aml/lib/python3.11/site-packages/torch/utils/checkpoint.py:429: UserWarning: torch.utils.checkpoint: please pass in use_reentrant=True or use_reentrant=False explicitly. The default value of use_reentrant will be updated to be False in the future. To maintain current behavior, pass use_reentrant=True. It is recommended that you use use_reentrant=False. Refer to docs for more details on the differences between the two variants.\n",
      "  warnings.warn(\n",
      "/opt/homebrew/Caskroom/miniforge/base/envs/py311aml/lib/python3.11/site-packages/torch/utils/checkpoint.py:429: UserWarning: torch.utils.checkpoint: please pass in use_reentrant=True or use_reentrant=False explicitly. The default value of use_reentrant will be updated to be False in the future. To maintain current behavior, pass use_reentrant=True. It is recommended that you use use_reentrant=False. Refer to docs for more details on the differences between the two variants.\n",
      "  warnings.warn(\n",
      "/opt/homebrew/Caskroom/miniforge/base/envs/py311aml/lib/python3.11/site-packages/torch/utils/checkpoint.py:429: UserWarning: torch.utils.checkpoint: please pass in use_reentrant=True or use_reentrant=False explicitly. The default value of use_reentrant will be updated to be False in the future. To maintain current behavior, pass use_reentrant=True. It is recommended that you use use_reentrant=False. Refer to docs for more details on the differences between the two variants.\n",
      "  warnings.warn(\n",
      "/opt/homebrew/Caskroom/miniforge/base/envs/py311aml/lib/python3.11/site-packages/torch/utils/checkpoint.py:429: UserWarning: torch.utils.checkpoint: please pass in use_reentrant=True or use_reentrant=False explicitly. The default value of use_reentrant will be updated to be False in the future. To maintain current behavior, pass use_reentrant=True. It is recommended that you use use_reentrant=False. Refer to docs for more details on the differences between the two variants.\n",
      "  warnings.warn(\n",
      "/opt/homebrew/Caskroom/miniforge/base/envs/py311aml/lib/python3.11/site-packages/torch/utils/checkpoint.py:429: UserWarning: torch.utils.checkpoint: please pass in use_reentrant=True or use_reentrant=False explicitly. The default value of use_reentrant will be updated to be False in the future. To maintain current behavior, pass use_reentrant=True. It is recommended that you use use_reentrant=False. Refer to docs for more details on the differences between the two variants.\n",
      "  warnings.warn(\n",
      "/opt/homebrew/Caskroom/miniforge/base/envs/py311aml/lib/python3.11/site-packages/torch/utils/checkpoint.py:429: UserWarning: torch.utils.checkpoint: please pass in use_reentrant=True or use_reentrant=False explicitly. The default value of use_reentrant will be updated to be False in the future. To maintain current behavior, pass use_reentrant=True. It is recommended that you use use_reentrant=False. Refer to docs for more details on the differences between the two variants.\n",
      "  warnings.warn(\n",
      "/opt/homebrew/Caskroom/miniforge/base/envs/py311aml/lib/python3.11/site-packages/torch/utils/checkpoint.py:429: UserWarning: torch.utils.checkpoint: please pass in use_reentrant=True or use_reentrant=False explicitly. The default value of use_reentrant will be updated to be False in the future. To maintain current behavior, pass use_reentrant=True. It is recommended that you use use_reentrant=False. Refer to docs for more details on the differences between the two variants.\n",
      "  warnings.warn(\n",
      "/opt/homebrew/Caskroom/miniforge/base/envs/py311aml/lib/python3.11/site-packages/torch/utils/checkpoint.py:429: UserWarning: torch.utils.checkpoint: please pass in use_reentrant=True or use_reentrant=False explicitly. The default value of use_reentrant will be updated to be False in the future. To maintain current behavior, pass use_reentrant=True. It is recommended that you use use_reentrant=False. Refer to docs for more details on the differences between the two variants.\n",
      "  warnings.warn(\n",
      "/opt/homebrew/Caskroom/miniforge/base/envs/py311aml/lib/python3.11/site-packages/torch/utils/checkpoint.py:429: UserWarning: torch.utils.checkpoint: please pass in use_reentrant=True or use_reentrant=False explicitly. The default value of use_reentrant will be updated to be False in the future. To maintain current behavior, pass use_reentrant=True. It is recommended that you use use_reentrant=False. Refer to docs for more details on the differences between the two variants.\n",
      "  warnings.warn(\n",
      "/opt/homebrew/Caskroom/miniforge/base/envs/py311aml/lib/python3.11/site-packages/torch/utils/checkpoint.py:429: UserWarning: torch.utils.checkpoint: please pass in use_reentrant=True or use_reentrant=False explicitly. The default value of use_reentrant will be updated to be False in the future. To maintain current behavior, pass use_reentrant=True. It is recommended that you use use_reentrant=False. Refer to docs for more details on the differences between the two variants.\n",
      "  warnings.warn(\n",
      "/opt/homebrew/Caskroom/miniforge/base/envs/py311aml/lib/python3.11/site-packages/torch/utils/checkpoint.py:429: UserWarning: torch.utils.checkpoint: please pass in use_reentrant=True or use_reentrant=False explicitly. The default value of use_reentrant will be updated to be False in the future. To maintain current behavior, pass use_reentrant=True. It is recommended that you use use_reentrant=False. Refer to docs for more details on the differences between the two variants.\n",
      "  warnings.warn(\n",
      "/opt/homebrew/Caskroom/miniforge/base/envs/py311aml/lib/python3.11/site-packages/torch/utils/checkpoint.py:429: UserWarning: torch.utils.checkpoint: please pass in use_reentrant=True or use_reentrant=False explicitly. The default value of use_reentrant will be updated to be False in the future. To maintain current behavior, pass use_reentrant=True. It is recommended that you use use_reentrant=False. Refer to docs for more details on the differences between the two variants.\n",
      "  warnings.warn(\n",
      "/opt/homebrew/Caskroom/miniforge/base/envs/py311aml/lib/python3.11/site-packages/torch/utils/checkpoint.py:429: UserWarning: torch.utils.checkpoint: please pass in use_reentrant=True or use_reentrant=False explicitly. The default value of use_reentrant will be updated to be False in the future. To maintain current behavior, pass use_reentrant=True. It is recommended that you use use_reentrant=False. Refer to docs for more details on the differences between the two variants.\n",
      "  warnings.warn(\n",
      "/opt/homebrew/Caskroom/miniforge/base/envs/py311aml/lib/python3.11/site-packages/torch/utils/checkpoint.py:429: UserWarning: torch.utils.checkpoint: please pass in use_reentrant=True or use_reentrant=False explicitly. The default value of use_reentrant will be updated to be False in the future. To maintain current behavior, pass use_reentrant=True. It is recommended that you use use_reentrant=False. Refer to docs for more details on the differences between the two variants.\n",
      "  warnings.warn(\n",
      "/opt/homebrew/Caskroom/miniforge/base/envs/py311aml/lib/python3.11/site-packages/torch/utils/checkpoint.py:429: UserWarning: torch.utils.checkpoint: please pass in use_reentrant=True or use_reentrant=False explicitly. The default value of use_reentrant will be updated to be False in the future. To maintain current behavior, pass use_reentrant=True. It is recommended that you use use_reentrant=False. Refer to docs for more details on the differences between the two variants.\n",
      "  warnings.warn(\n",
      "/opt/homebrew/Caskroom/miniforge/base/envs/py311aml/lib/python3.11/site-packages/torch/utils/checkpoint.py:429: UserWarning: torch.utils.checkpoint: please pass in use_reentrant=True or use_reentrant=False explicitly. The default value of use_reentrant will be updated to be False in the future. To maintain current behavior, pass use_reentrant=True. It is recommended that you use use_reentrant=False. Refer to docs for more details on the differences between the two variants.\n",
      "  warnings.warn(\n",
      "/opt/homebrew/Caskroom/miniforge/base/envs/py311aml/lib/python3.11/site-packages/torch/utils/checkpoint.py:429: UserWarning: torch.utils.checkpoint: please pass in use_reentrant=True or use_reentrant=False explicitly. The default value of use_reentrant will be updated to be False in the future. To maintain current behavior, pass use_reentrant=True. It is recommended that you use use_reentrant=False. Refer to docs for more details on the differences between the two variants.\n",
      "  warnings.warn(\n",
      "/opt/homebrew/Caskroom/miniforge/base/envs/py311aml/lib/python3.11/site-packages/torch/utils/checkpoint.py:429: UserWarning: torch.utils.checkpoint: please pass in use_reentrant=True or use_reentrant=False explicitly. The default value of use_reentrant will be updated to be False in the future. To maintain current behavior, pass use_reentrant=True. It is recommended that you use use_reentrant=False. Refer to docs for more details on the differences between the two variants.\n",
      "  warnings.warn(\n",
      "/opt/homebrew/Caskroom/miniforge/base/envs/py311aml/lib/python3.11/site-packages/torch/utils/checkpoint.py:429: UserWarning: torch.utils.checkpoint: please pass in use_reentrant=True or use_reentrant=False explicitly. The default value of use_reentrant will be updated to be False in the future. To maintain current behavior, pass use_reentrant=True. It is recommended that you use use_reentrant=False. Refer to docs for more details on the differences between the two variants.\n",
      "  warnings.warn(\n",
      "/opt/homebrew/Caskroom/miniforge/base/envs/py311aml/lib/python3.11/site-packages/torch/utils/checkpoint.py:429: UserWarning: torch.utils.checkpoint: please pass in use_reentrant=True or use_reentrant=False explicitly. The default value of use_reentrant will be updated to be False in the future. To maintain current behavior, pass use_reentrant=True. It is recommended that you use use_reentrant=False. Refer to docs for more details on the differences between the two variants.\n",
      "  warnings.warn(\n",
      "/opt/homebrew/Caskroom/miniforge/base/envs/py311aml/lib/python3.11/site-packages/torch/utils/checkpoint.py:429: UserWarning: torch.utils.checkpoint: please pass in use_reentrant=True or use_reentrant=False explicitly. The default value of use_reentrant will be updated to be False in the future. To maintain current behavior, pass use_reentrant=True. It is recommended that you use use_reentrant=False. Refer to docs for more details on the differences between the two variants.\n",
      "  warnings.warn(\n",
      "/opt/homebrew/Caskroom/miniforge/base/envs/py311aml/lib/python3.11/site-packages/torch/utils/checkpoint.py:429: UserWarning: torch.utils.checkpoint: please pass in use_reentrant=True or use_reentrant=False explicitly. The default value of use_reentrant will be updated to be False in the future. To maintain current behavior, pass use_reentrant=True. It is recommended that you use use_reentrant=False. Refer to docs for more details on the differences between the two variants.\n",
      "  warnings.warn(\n",
      "/opt/homebrew/Caskroom/miniforge/base/envs/py311aml/lib/python3.11/site-packages/torch/utils/checkpoint.py:429: UserWarning: torch.utils.checkpoint: please pass in use_reentrant=True or use_reentrant=False explicitly. The default value of use_reentrant will be updated to be False in the future. To maintain current behavior, pass use_reentrant=True. It is recommended that you use use_reentrant=False. Refer to docs for more details on the differences between the two variants.\n",
      "  warnings.warn(\n",
      "/opt/homebrew/Caskroom/miniforge/base/envs/py311aml/lib/python3.11/site-packages/torch/utils/checkpoint.py:429: UserWarning: torch.utils.checkpoint: please pass in use_reentrant=True or use_reentrant=False explicitly. The default value of use_reentrant will be updated to be False in the future. To maintain current behavior, pass use_reentrant=True. It is recommended that you use use_reentrant=False. Refer to docs for more details on the differences between the two variants.\n",
      "  warnings.warn(\n",
      "/opt/homebrew/Caskroom/miniforge/base/envs/py311aml/lib/python3.11/site-packages/torch/utils/checkpoint.py:429: UserWarning: torch.utils.checkpoint: please pass in use_reentrant=True or use_reentrant=False explicitly. The default value of use_reentrant will be updated to be False in the future. To maintain current behavior, pass use_reentrant=True. It is recommended that you use use_reentrant=False. Refer to docs for more details on the differences between the two variants.\n",
      "  warnings.warn(\n",
      "/opt/homebrew/Caskroom/miniforge/base/envs/py311aml/lib/python3.11/site-packages/torch/utils/checkpoint.py:429: UserWarning: torch.utils.checkpoint: please pass in use_reentrant=True or use_reentrant=False explicitly. The default value of use_reentrant will be updated to be False in the future. To maintain current behavior, pass use_reentrant=True. It is recommended that you use use_reentrant=False. Refer to docs for more details on the differences between the two variants.\n",
      "  warnings.warn(\n",
      "/opt/homebrew/Caskroom/miniforge/base/envs/py311aml/lib/python3.11/site-packages/torch/utils/checkpoint.py:429: UserWarning: torch.utils.checkpoint: please pass in use_reentrant=True or use_reentrant=False explicitly. The default value of use_reentrant will be updated to be False in the future. To maintain current behavior, pass use_reentrant=True. It is recommended that you use use_reentrant=False. Refer to docs for more details on the differences between the two variants.\n",
      "  warnings.warn(\n",
      "/opt/homebrew/Caskroom/miniforge/base/envs/py311aml/lib/python3.11/site-packages/torch/utils/checkpoint.py:429: UserWarning: torch.utils.checkpoint: please pass in use_reentrant=True or use_reentrant=False explicitly. The default value of use_reentrant will be updated to be False in the future. To maintain current behavior, pass use_reentrant=True. It is recommended that you use use_reentrant=False. Refer to docs for more details on the differences between the two variants.\n",
      "  warnings.warn(\n",
      "/opt/homebrew/Caskroom/miniforge/base/envs/py311aml/lib/python3.11/site-packages/torch/utils/checkpoint.py:429: UserWarning: torch.utils.checkpoint: please pass in use_reentrant=True or use_reentrant=False explicitly. The default value of use_reentrant will be updated to be False in the future. To maintain current behavior, pass use_reentrant=True. It is recommended that you use use_reentrant=False. Refer to docs for more details on the differences between the two variants.\n",
      "  warnings.warn(\n",
      "/opt/homebrew/Caskroom/miniforge/base/envs/py311aml/lib/python3.11/site-packages/torch/utils/checkpoint.py:429: UserWarning: torch.utils.checkpoint: please pass in use_reentrant=True or use_reentrant=False explicitly. The default value of use_reentrant will be updated to be False in the future. To maintain current behavior, pass use_reentrant=True. It is recommended that you use use_reentrant=False. Refer to docs for more details on the differences between the two variants.\n",
      "  warnings.warn(\n",
      "/opt/homebrew/Caskroom/miniforge/base/envs/py311aml/lib/python3.11/site-packages/torch/utils/checkpoint.py:429: UserWarning: torch.utils.checkpoint: please pass in use_reentrant=True or use_reentrant=False explicitly. The default value of use_reentrant will be updated to be False in the future. To maintain current behavior, pass use_reentrant=True. It is recommended that you use use_reentrant=False. Refer to docs for more details on the differences between the two variants.\n",
      "  warnings.warn(\n",
      "/opt/homebrew/Caskroom/miniforge/base/envs/py311aml/lib/python3.11/site-packages/torch/utils/checkpoint.py:429: UserWarning: torch.utils.checkpoint: please pass in use_reentrant=True or use_reentrant=False explicitly. The default value of use_reentrant will be updated to be False in the future. To maintain current behavior, pass use_reentrant=True. It is recommended that you use use_reentrant=False. Refer to docs for more details on the differences between the two variants.\n",
      "  warnings.warn(\n",
      "/opt/homebrew/Caskroom/miniforge/base/envs/py311aml/lib/python3.11/site-packages/torch/utils/checkpoint.py:429: UserWarning: torch.utils.checkpoint: please pass in use_reentrant=True or use_reentrant=False explicitly. The default value of use_reentrant will be updated to be False in the future. To maintain current behavior, pass use_reentrant=True. It is recommended that you use use_reentrant=False. Refer to docs for more details on the differences between the two variants.\n",
      "  warnings.warn(\n",
      "/opt/homebrew/Caskroom/miniforge/base/envs/py311aml/lib/python3.11/site-packages/torch/utils/checkpoint.py:429: UserWarning: torch.utils.checkpoint: please pass in use_reentrant=True or use_reentrant=False explicitly. The default value of use_reentrant will be updated to be False in the future. To maintain current behavior, pass use_reentrant=True. It is recommended that you use use_reentrant=False. Refer to docs for more details on the differences between the two variants.\n",
      "  warnings.warn(\n",
      "/opt/homebrew/Caskroom/miniforge/base/envs/py311aml/lib/python3.11/site-packages/torch/utils/checkpoint.py:429: UserWarning: torch.utils.checkpoint: please pass in use_reentrant=True or use_reentrant=False explicitly. The default value of use_reentrant will be updated to be False in the future. To maintain current behavior, pass use_reentrant=True. It is recommended that you use use_reentrant=False. Refer to docs for more details on the differences between the two variants.\n",
      "  warnings.warn(\n",
      "/opt/homebrew/Caskroom/miniforge/base/envs/py311aml/lib/python3.11/site-packages/torch/utils/checkpoint.py:429: UserWarning: torch.utils.checkpoint: please pass in use_reentrant=True or use_reentrant=False explicitly. The default value of use_reentrant will be updated to be False in the future. To maintain current behavior, pass use_reentrant=True. It is recommended that you use use_reentrant=False. Refer to docs for more details on the differences between the two variants.\n",
      "  warnings.warn(\n",
      "/opt/homebrew/Caskroom/miniforge/base/envs/py311aml/lib/python3.11/site-packages/torch/utils/checkpoint.py:429: UserWarning: torch.utils.checkpoint: please pass in use_reentrant=True or use_reentrant=False explicitly. The default value of use_reentrant will be updated to be False in the future. To maintain current behavior, pass use_reentrant=True. It is recommended that you use use_reentrant=False. Refer to docs for more details on the differences between the two variants.\n",
      "  warnings.warn(\n",
      "/opt/homebrew/Caskroom/miniforge/base/envs/py311aml/lib/python3.11/site-packages/torch/utils/checkpoint.py:429: UserWarning: torch.utils.checkpoint: please pass in use_reentrant=True or use_reentrant=False explicitly. The default value of use_reentrant will be updated to be False in the future. To maintain current behavior, pass use_reentrant=True. It is recommended that you use use_reentrant=False. Refer to docs for more details on the differences between the two variants.\n",
      "  warnings.warn(\n",
      "/opt/homebrew/Caskroom/miniforge/base/envs/py311aml/lib/python3.11/site-packages/torch/utils/checkpoint.py:429: UserWarning: torch.utils.checkpoint: please pass in use_reentrant=True or use_reentrant=False explicitly. The default value of use_reentrant will be updated to be False in the future. To maintain current behavior, pass use_reentrant=True. It is recommended that you use use_reentrant=False. Refer to docs for more details on the differences between the two variants.\n",
      "  warnings.warn(\n"
     ]
    },
    {
     "name": "stdout",
     "output_type": "stream",
     "text": [
      "Before temperature - NLL: 0.636, ECE: 0.391\n",
      "Optimal temperature: 0.549\n",
      "After temperature - NLL: 0.424, ECE: 0.215\n"
     ]
    },
    {
     "name": "stderr",
     "output_type": "stream",
     "text": [
      "/opt/homebrew/Caskroom/miniforge/base/envs/py311aml/lib/python3.11/site-packages/torch/utils/checkpoint.py:429: UserWarning: torch.utils.checkpoint: please pass in use_reentrant=True or use_reentrant=False explicitly. The default value of use_reentrant will be updated to be False in the future. To maintain current behavior, pass use_reentrant=True. It is recommended that you use use_reentrant=False. Refer to docs for more details on the differences between the two variants.\n",
      "  warnings.warn(\n",
      "/opt/homebrew/Caskroom/miniforge/base/envs/py311aml/lib/python3.11/site-packages/torch/utils/checkpoint.py:429: UserWarning: torch.utils.checkpoint: please pass in use_reentrant=True or use_reentrant=False explicitly. The default value of use_reentrant will be updated to be False in the future. To maintain current behavior, pass use_reentrant=True. It is recommended that you use use_reentrant=False. Refer to docs for more details on the differences between the two variants.\n",
      "  warnings.warn(\n"
     ]
    }
   ],
   "source": [
    "model=model.set_temperature(loader)"
   ]
  },
  {
   "cell_type": "code",
   "execution_count": 33,
   "id": "344f0ec9",
   "metadata": {},
   "outputs": [
    {
     "name": "stderr",
     "output_type": "stream",
     "text": [
      "/opt/homebrew/Caskroom/miniforge/base/envs/py311aml/lib/python3.11/site-packages/torch/utils/checkpoint.py:429: UserWarning: torch.utils.checkpoint: please pass in use_reentrant=True or use_reentrant=False explicitly. The default value of use_reentrant will be updated to be False in the future. To maintain current behavior, pass use_reentrant=True. It is recommended that you use use_reentrant=False. Refer to docs for more details on the differences between the two variants.\n",
      "  warnings.warn(\n"
     ]
    }
   ],
   "source": [
    "probs_cal=model(Xtest).detach()"
   ]
  },
  {
   "cell_type": "code",
   "execution_count": 36,
   "id": "357f68d6",
   "metadata": {},
   "outputs": [
    {
     "data": {
      "text/plain": [
       "<sklearn.calibration.CalibrationDisplay at 0x2b0ff3210>"
      ]
     },
     "execution_count": 36,
     "metadata": {},
     "output_type": "execute_result"
    },
    {
     "data": {
      "image/png": "[encoded data removed]",
      "text/plain": [
       "<Figure size 640x480 with 1 Axes>"
      ]
     },
     "metadata": {},
     "output_type": "display_data"
    }
   ],
   "source": [
    "CalibrationDisplay.from_predictions(y_true=binarize(ytest,1),y_prob=probs_cal.softmax(dim=1)[:,1])"
   ]
  },
  {
   "cell_type": "code",
   "execution_count": null,
   "id": "e849b28a",
   "metadata": {},
   "outputs": [],
   "source": [
    "CalibrationDisplay.from_predictions(y_true=binarize(ytest,0),y_prob=probs_cal.softmax(dim=1)[:,0],n_bins=20)"
   ]
  },
  {
   "cell_type": "code",
   "execution_count": null,
   "id": "735c92b6",
   "metadata": {},
   "outputs": [],
   "source": [
    "calibration_error(preds=probs_cal,target=torch.tensor(ytest),task='multiclass',num_classes=3)"
   ]
  },
  {
   "cell_type": "code",
   "execution_count": null,
   "id": "9581f155",
   "metadata": {},
   "outputs": [],
   "source": [
    "calibration_error(preds=torch.tensor(probs),target=torch.tensor(ytest),task='multiclass',num_classes=3)"
   ]
  },
  {
   "cell_type": "code",
   "execution_count": null,
   "id": "4531cafa",
   "metadata": {},
   "outputs": [],
   "source": [
    "from temperature_scaling import _ECELoss"
   ]
  },
  {
   "cell_type": "code",
   "execution_count": null,
   "id": "f103dc1f",
   "metadata": {},
   "outputs": [],
   "source": [
    "ece=_ECELoss(n_bins=10)"
   ]
  },
  {
   "cell_type": "code",
   "execution_count": null,
   "id": "a093bf71",
   "metadata": {},
   "outputs": [],
   "source": [
    "ece.forward(probs_cal,ytest)"
   ]
  },
  {
   "cell_type": "code",
   "execution_count": null,
   "id": "36b20b00",
   "metadata": {},
   "outputs": [],
   "source": [
    "ece.forward(probs,ytest)"
   ]
  },
  {
   "cell_type": "code",
   "execution_count": null,
   "metadata": {},
   "outputs": [],
   "source": []
  }
 ],
 "metadata": {
  "kernelspec": {
   "display_name": "Python 3 (ipykernel)",
   "language": "python",
   "name": "python3"
  },
  "language_info": {
   "codemirror_mode": {
    "name": "ipython",
    "version": 3
   },
   "file_extension": ".py",
   "mimetype": "text/x-python",
   "name": "python",
   "nbconvert_exporter": "python",
   "pygments_lexer": "ipython3",
   "version": "3.11.6"
  }
 },
 "nbformat": 4,
 "nbformat_minor": 5
}
